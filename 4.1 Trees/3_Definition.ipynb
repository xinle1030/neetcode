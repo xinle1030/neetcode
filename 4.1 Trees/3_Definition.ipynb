{
 "cells": [
  {
   "cell_type": "markdown",
   "metadata": {},
   "source": [
    "1. Depth of a node: number of edges from the node to the tree's root node.\n",
    "- A root node will have a depth of 0"
   ]
  },
  {
   "cell_type": "markdown",
   "metadata": {},
   "source": [
    "2. Height of a node: number of edges on the longest path from the node to a leaf.\n",
    "- A leaf node will have a height of 0"
   ]
  },
  {
   "cell_type": "markdown",
   "metadata": {},
   "source": [
    "3. Diameter of a Tree: number of nodes on the longest path between any two leaf nodes\n",
    "- Tree below has a diameter of 6 nodes"
   ]
  },
  {
   "cell_type": "markdown",
   "metadata": {},
   "source": [
    "![alt text](3_Definition1.png \"TitleDefinition1\")"
   ]
  }
 ],
 "metadata": {
  "language_info": {
   "name": "python"
  }
 },
 "nbformat": 4,
 "nbformat_minor": 2
}
